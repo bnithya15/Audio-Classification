{
 "cells": [
  {
   "cell_type": "markdown",
   "metadata": {},
   "source": [
    "## This file consists of Audio Classification using ANN method"
   ]
  },
  {
   "cell_type": "code",
   "execution_count": 1,
   "metadata": {},
   "outputs": [
    {
     "name": "stderr",
     "output_type": "stream",
     "text": [
      "C:\\Users\\Nithya Thesis\\anaconda3\\lib\\site-packages\\noisereduce\\noisereduce.py:5: TqdmExperimentalWarning: Using `tqdm.autonotebook.tqdm` in notebook mode. Use `tqdm.tqdm` instead to force console mode (e.g. in jupyter console)\n",
      "  from tqdm.autonotebook import tqdm\n"
     ]
    }
   ],
   "source": [
    "import keras\n",
    "from keras import layers\n",
    "from keras import layers\n",
    "import keras\n",
    "from keras.models import Sequential\n",
    "import pandas as pd\n",
    "import numpy as np\n",
    "import matplotlib.pyplot as plt\n",
    "%matplotlib inline\n",
    "import os\n",
    "from PIL import Image\n",
    "import noisereduce as nr\n",
    "import pathlib\n",
    "import csv\n",
    "from sklearn.model_selection import train_test_split\n",
    "from sklearn.preprocessing import LabelEncoder, StandardScaler"
   ]
  },
  {
   "cell_type": "markdown",
   "metadata": {},
   "source": [
    "### Load the dataset"
   ]
  },
  {
   "cell_type": "code",
   "execution_count": 2,
   "metadata": {},
   "outputs": [
    {
     "data": {
      "text/html": [
       "<div>\n",
       "<style scoped>\n",
       "    .dataframe tbody tr th:only-of-type {\n",
       "        vertical-align: middle;\n",
       "    }\n",
       "\n",
       "    .dataframe tbody tr th {\n",
       "        vertical-align: top;\n",
       "    }\n",
       "\n",
       "    .dataframe thead th {\n",
       "        text-align: right;\n",
       "    }\n",
       "</style>\n",
       "<table border=\"1\" class=\"dataframe\">\n",
       "  <thead>\n",
       "    <tr style=\"text-align: right;\">\n",
       "      <th></th>\n",
       "      <th>filename</th>\n",
       "      <th>spectral_centroid</th>\n",
       "      <th>rmse</th>\n",
       "      <th>rolloff</th>\n",
       "      <th>zero_crossing_rate</th>\n",
       "      <th>mfcc1</th>\n",
       "      <th>mfcc2</th>\n",
       "      <th>mfcc3</th>\n",
       "      <th>mfcc4</th>\n",
       "      <th>mfcc5</th>\n",
       "      <th>mfcc6</th>\n",
       "      <th>mfcc7</th>\n",
       "      <th>mfcc8</th>\n",
       "      <th>mfcc9</th>\n",
       "      <th>mfcc10</th>\n",
       "      <th>mfcc11</th>\n",
       "      <th>mfcc12</th>\n",
       "      <th>mfcc13</th>\n",
       "      <th>label</th>\n",
       "    </tr>\n",
       "  </thead>\n",
       "  <tbody>\n",
       "    <tr>\n",
       "      <th>clap</th>\n",
       "      <td>(1).wav</td>\n",
       "      <td>2051.572081</td>\n",
       "      <td>0.008992</td>\n",
       "      <td>4060.966353</td>\n",
       "      <td>0.134100</td>\n",
       "      <td>-605.536610</td>\n",
       "      <td>56.630991</td>\n",
       "      <td>-23.340395</td>\n",
       "      <td>11.531782</td>\n",
       "      <td>-11.342088</td>\n",
       "      <td>7.796704</td>\n",
       "      <td>-12.405108</td>\n",
       "      <td>2.648839</td>\n",
       "      <td>0.432009</td>\n",
       "      <td>1.499365</td>\n",
       "      <td>-1.880858</td>\n",
       "      <td>-1.527689</td>\n",
       "      <td>0.625778</td>\n",
       "      <td>clap</td>\n",
       "    </tr>\n",
       "    <tr>\n",
       "      <th>clap</th>\n",
       "      <td>(10).wav</td>\n",
       "      <td>2058.214164</td>\n",
       "      <td>0.005593</td>\n",
       "      <td>4190.654963</td>\n",
       "      <td>0.113909</td>\n",
       "      <td>-658.675436</td>\n",
       "      <td>32.362119</td>\n",
       "      <td>-18.051734</td>\n",
       "      <td>10.146358</td>\n",
       "      <td>-5.399427</td>\n",
       "      <td>10.915433</td>\n",
       "      <td>-5.938106</td>\n",
       "      <td>4.143925</td>\n",
       "      <td>-2.083303</td>\n",
       "      <td>-0.279218</td>\n",
       "      <td>-1.515553</td>\n",
       "      <td>-3.099555</td>\n",
       "      <td>-1.432691</td>\n",
       "      <td>clap</td>\n",
       "    </tr>\n",
       "    <tr>\n",
       "      <th>clap</th>\n",
       "      <td>(100).wav</td>\n",
       "      <td>2843.481250</td>\n",
       "      <td>0.002820</td>\n",
       "      <td>5076.793352</td>\n",
       "      <td>0.136552</td>\n",
       "      <td>-686.391418</td>\n",
       "      <td>19.337809</td>\n",
       "      <td>11.524174</td>\n",
       "      <td>51.081119</td>\n",
       "      <td>-2.689775</td>\n",
       "      <td>14.175341</td>\n",
       "      <td>22.585746</td>\n",
       "      <td>16.809678</td>\n",
       "      <td>-5.130494</td>\n",
       "      <td>12.618686</td>\n",
       "      <td>25.561120</td>\n",
       "      <td>1.495639</td>\n",
       "      <td>-1.316608</td>\n",
       "      <td>clap</td>\n",
       "    </tr>\n",
       "    <tr>\n",
       "      <th>clap</th>\n",
       "      <td>(101).wav</td>\n",
       "      <td>2224.800218</td>\n",
       "      <td>0.001412</td>\n",
       "      <td>4658.933844</td>\n",
       "      <td>0.149073</td>\n",
       "      <td>-610.523518</td>\n",
       "      <td>101.509821</td>\n",
       "      <td>-81.046570</td>\n",
       "      <td>-23.512760</td>\n",
       "      <td>-66.012875</td>\n",
       "      <td>24.605814</td>\n",
       "      <td>-56.382617</td>\n",
       "      <td>-13.351940</td>\n",
       "      <td>-30.259235</td>\n",
       "      <td>-5.224484</td>\n",
       "      <td>-16.138139</td>\n",
       "      <td>-30.078784</td>\n",
       "      <td>-4.236884</td>\n",
       "      <td>clap</td>\n",
       "    </tr>\n",
       "    <tr>\n",
       "      <th>clap</th>\n",
       "      <td>(102).wav</td>\n",
       "      <td>1275.823458</td>\n",
       "      <td>0.004507</td>\n",
       "      <td>1788.112294</td>\n",
       "      <td>0.084689</td>\n",
       "      <td>-518.568838</td>\n",
       "      <td>165.982720</td>\n",
       "      <td>-46.998002</td>\n",
       "      <td>-47.874393</td>\n",
       "      <td>-24.953285</td>\n",
       "      <td>-3.947731</td>\n",
       "      <td>-17.928818</td>\n",
       "      <td>-21.016032</td>\n",
       "      <td>-14.468609</td>\n",
       "      <td>-2.527688</td>\n",
       "      <td>-7.698056</td>\n",
       "      <td>-14.593245</td>\n",
       "      <td>-6.349583</td>\n",
       "      <td>clap</td>\n",
       "    </tr>\n",
       "  </tbody>\n",
       "</table>\n",
       "</div>"
      ],
      "text/plain": [
       "       filename  spectral_centroid      rmse      rolloff  zero_crossing_rate  \\\n",
       "clap    (1).wav        2051.572081  0.008992  4060.966353            0.134100   \n",
       "clap   (10).wav        2058.214164  0.005593  4190.654963            0.113909   \n",
       "clap  (100).wav        2843.481250  0.002820  5076.793352            0.136552   \n",
       "clap  (101).wav        2224.800218  0.001412  4658.933844            0.149073   \n",
       "clap  (102).wav        1275.823458  0.004507  1788.112294            0.084689   \n",
       "\n",
       "           mfcc1       mfcc2      mfcc3      mfcc4      mfcc5      mfcc6  \\\n",
       "clap -605.536610   56.630991 -23.340395  11.531782 -11.342088   7.796704   \n",
       "clap -658.675436   32.362119 -18.051734  10.146358  -5.399427  10.915433   \n",
       "clap -686.391418   19.337809  11.524174  51.081119  -2.689775  14.175341   \n",
       "clap -610.523518  101.509821 -81.046570 -23.512760 -66.012875  24.605814   \n",
       "clap -518.568838  165.982720 -46.998002 -47.874393 -24.953285  -3.947731   \n",
       "\n",
       "          mfcc7      mfcc8      mfcc9     mfcc10     mfcc11     mfcc12  \\\n",
       "clap -12.405108   2.648839   0.432009   1.499365  -1.880858  -1.527689   \n",
       "clap  -5.938106   4.143925  -2.083303  -0.279218  -1.515553  -3.099555   \n",
       "clap  22.585746  16.809678  -5.130494  12.618686  25.561120   1.495639   \n",
       "clap -56.382617 -13.351940 -30.259235  -5.224484 -16.138139 -30.078784   \n",
       "clap -17.928818 -21.016032 -14.468609  -2.527688  -7.698056 -14.593245   \n",
       "\n",
       "        mfcc13 label  \n",
       "clap  0.625778  clap  \n",
       "clap -1.432691  clap  \n",
       "clap -1.316608  clap  \n",
       "clap -4.236884  clap  \n",
       "clap -6.349583  clap  "
      ]
     },
     "execution_count": 2,
     "metadata": {},
     "output_type": "execute_result"
    }
   ],
   "source": [
    "data = pd.read_csv('audio_class.csv')\n",
    "data.head()# Dropping unneccesary columns"
   ]
  },
  {
   "cell_type": "code",
   "execution_count": 3,
   "metadata": {},
   "outputs": [],
   "source": [
    "data = data.drop(['filename'],axis=1)#Encoding the Labels"
   ]
  },
  {
   "cell_type": "markdown",
   "metadata": {},
   "source": [
    "### Label encoder to convert the categorical data and split the train and test dataset"
   ]
  },
  {
   "cell_type": "code",
   "execution_count": 4,
   "metadata": {},
   "outputs": [],
   "source": [
    "audio_list = data.iloc[:, -1]\n",
    "encoder = LabelEncoder()\n",
    "y = encoder.fit_transform(audio_list)#Scaling the Feature columns\n",
    "scaler = StandardScaler()\n",
    "X = scaler.fit_transform(np.array(data.iloc[:, :-1], dtype = float))#Dividing data into training and Testing set and Validation set\n",
    "\n",
    "\n",
    "X_train, X_test, y_train, y_test = train_test_split(X, y, test_size=0.1)\n",
    "X_train, X_val, y_train, y_val = train_test_split(X_train, y_train, test_size=0.2, random_state=1)"
   ]
  },
  {
   "cell_type": "code",
   "execution_count": 5,
   "metadata": {},
   "outputs": [
    {
     "data": {
      "text/plain": [
       "(724, 17)"
      ]
     },
     "execution_count": 5,
     "metadata": {},
     "output_type": "execute_result"
    }
   ],
   "source": [
    "X_train.shape"
   ]
  },
  {
   "cell_type": "code",
   "execution_count": 6,
   "metadata": {},
   "outputs": [
    {
     "data": {
      "text/plain": [
       "(724,)"
      ]
     },
     "execution_count": 6,
     "metadata": {},
     "output_type": "execute_result"
    }
   ],
   "source": [
    "y_train.shape"
   ]
  },
  {
   "cell_type": "code",
   "execution_count": 7,
   "metadata": {},
   "outputs": [
    {
     "data": {
      "text/plain": [
       "(101,)"
      ]
     },
     "execution_count": 7,
     "metadata": {},
     "output_type": "execute_result"
    }
   ],
   "source": [
    "y_test.shape"
   ]
  },
  {
   "cell_type": "code",
   "execution_count": 8,
   "metadata": {},
   "outputs": [
    {
     "data": {
      "text/plain": [
       "(182,)"
      ]
     },
     "execution_count": 8,
     "metadata": {},
     "output_type": "execute_result"
    }
   ],
   "source": [
    "y_val.shape"
   ]
  },
  {
   "cell_type": "code",
   "execution_count": 9,
   "metadata": {},
   "outputs": [
    {
     "data": {
      "text/plain": [
       "17"
      ]
     },
     "execution_count": 9,
     "metadata": {},
     "output_type": "execute_result"
    }
   ],
   "source": [
    "X_train.shape[1]"
   ]
  },
  {
   "cell_type": "markdown",
   "metadata": {},
   "source": [
    "### ANN model construction along with compilation"
   ]
  },
  {
   "cell_type": "code",
   "execution_count": 10,
   "metadata": {},
   "outputs": [
    {
     "name": "stdout",
     "output_type": "stream",
     "text": [
      "Model: \"sequential\"\n",
      "_________________________________________________________________\n",
      "Layer (type)                 Output Shape              Param #   \n",
      "=================================================================\n",
      "dense (Dense)                (None, 128)               2304      \n",
      "_________________________________________________________________\n",
      "dense_1 (Dense)              (None, 64)                8256      \n",
      "_________________________________________________________________\n",
      "dense_2 (Dense)              (None, 32)                2080      \n",
      "_________________________________________________________________\n",
      "dense_3 (Dense)              (None, 5)                 165       \n",
      "=================================================================\n",
      "Total params: 12,805\n",
      "Trainable params: 12,805\n",
      "Non-trainable params: 0\n",
      "_________________________________________________________________\n"
     ]
    }
   ],
   "source": [
    "model = Sequential()\n",
    "model.add(layers.Dense(128, activation='relu', input_shape=(X_train.shape[1],)))\n",
    "model.add(layers.Dense(64, activation='relu'))\n",
    "#model.add(layers.Dense(32, activation='relu'))\n",
    "model.add(layers.Dense(32, activation='relu'))\n",
    "model.add(layers.Dense(5, activation='softmax'))\n",
    "model.compile(optimizer='adam',\n",
    "              loss='sparse_categorical_crossentropy',\n",
    "              metrics=['accuracy'])\n",
    "model.summary()"
   ]
  },
  {
   "cell_type": "markdown",
   "metadata": {},
   "source": [
    "### train the model"
   ]
  },
  {
   "cell_type": "code",
   "execution_count": 11,
   "metadata": {},
   "outputs": [
    {
     "name": "stdout",
     "output_type": "stream",
     "text": [
      "Epoch 1/25\n",
      "12/12 [==============================] - 1s 45ms/step - loss: 1.4550 - accuracy: 0.3660 - val_loss: 1.3293 - val_accuracy: 0.4780\n",
      "Epoch 2/25\n",
      "12/12 [==============================] - 0s 6ms/step - loss: 1.1591 - accuracy: 0.5884 - val_loss: 1.1111 - val_accuracy: 0.5879\n",
      "Epoch 3/25\n",
      "12/12 [==============================] - 0s 5ms/step - loss: 0.9192 - accuracy: 0.6837 - val_loss: 0.9304 - val_accuracy: 0.6703\n",
      "Epoch 4/25\n",
      "12/12 [==============================] - 0s 5ms/step - loss: 0.7442 - accuracy: 0.7555 - val_loss: 0.8044 - val_accuracy: 0.6978\n",
      "Epoch 5/25\n",
      "12/12 [==============================] - 0s 7ms/step - loss: 0.6247 - accuracy: 0.7790 - val_loss: 0.7372 - val_accuracy: 0.7143\n",
      "Epoch 6/25\n",
      "12/12 [==============================] - 0s 6ms/step - loss: 0.5371 - accuracy: 0.8066 - val_loss: 0.6798 - val_accuracy: 0.7692\n",
      "Epoch 7/25\n",
      "12/12 [==============================] - 0s 10ms/step - loss: 0.4696 - accuracy: 0.8260 - val_loss: 0.6451 - val_accuracy: 0.7912\n",
      "Epoch 8/25\n",
      "12/12 [==============================] - 0s 7ms/step - loss: 0.4201 - accuracy: 0.8453 - val_loss: 0.6234 - val_accuracy: 0.7857\n",
      "Epoch 9/25\n",
      "12/12 [==============================] - 0s 8ms/step - loss: 0.3770 - accuracy: 0.8633 - val_loss: 0.5882 - val_accuracy: 0.7967\n",
      "Epoch 10/25\n",
      "12/12 [==============================] - 0s 14ms/step - loss: 0.3405 - accuracy: 0.8854 - val_loss: 0.5800 - val_accuracy: 0.7967\n",
      "Epoch 11/25\n",
      "12/12 [==============================] - 0s 9ms/step - loss: 0.3061 - accuracy: 0.9116 - val_loss: 0.5529 - val_accuracy: 0.8132\n",
      "Epoch 12/25\n",
      "12/12 [==============================] - 0s 11ms/step - loss: 0.2813 - accuracy: 0.9254 - val_loss: 0.5626 - val_accuracy: 0.7912\n",
      "Epoch 13/25\n",
      "12/12 [==============================] - 0s 12ms/step - loss: 0.2468 - accuracy: 0.9378 - val_loss: 0.5325 - val_accuracy: 0.8242\n",
      "Epoch 14/25\n",
      "12/12 [==============================] - 0s 7ms/step - loss: 0.2268 - accuracy: 0.9530 - val_loss: 0.5127 - val_accuracy: 0.8242\n",
      "Epoch 15/25\n",
      "12/12 [==============================] - 0s 13ms/step - loss: 0.2053 - accuracy: 0.9544 - val_loss: 0.5268 - val_accuracy: 0.8187\n",
      "Epoch 16/25\n",
      "12/12 [==============================] - 0s 6ms/step - loss: 0.1877 - accuracy: 0.9558 - val_loss: 0.5155 - val_accuracy: 0.8077\n",
      "Epoch 17/25\n",
      "12/12 [==============================] - 0s 8ms/step - loss: 0.1747 - accuracy: 0.9599 - val_loss: 0.5524 - val_accuracy: 0.8187\n",
      "Epoch 18/25\n",
      "12/12 [==============================] - 0s 7ms/step - loss: 0.1604 - accuracy: 0.9655 - val_loss: 0.5112 - val_accuracy: 0.8022\n",
      "Epoch 19/25\n",
      "12/12 [==============================] - 0s 5ms/step - loss: 0.1418 - accuracy: 0.9696 - val_loss: 0.5390 - val_accuracy: 0.8242\n",
      "Epoch 20/25\n",
      "12/12 [==============================] - 0s 5ms/step - loss: 0.1307 - accuracy: 0.9765 - val_loss: 0.5248 - val_accuracy: 0.8132\n",
      "Epoch 21/25\n",
      "12/12 [==============================] - 0s 10ms/step - loss: 0.1188 - accuracy: 0.9820 - val_loss: 0.5117 - val_accuracy: 0.7967\n",
      "Epoch 22/25\n",
      "12/12 [==============================] - 0s 11ms/step - loss: 0.1151 - accuracy: 0.9751 - val_loss: 0.5677 - val_accuracy: 0.8022\n",
      "Epoch 23/25\n",
      "12/12 [==============================] - 0s 10ms/step - loss: 0.1044 - accuracy: 0.9793 - val_loss: 0.5261 - val_accuracy: 0.8132\n",
      "Epoch 24/25\n",
      "12/12 [==============================] - 0s 18ms/step - loss: 0.0948 - accuracy: 0.9876 - val_loss: 0.5528 - val_accuracy: 0.7967\n",
      "Epoch 25/25\n",
      "12/12 [==============================] - 0s 11ms/step - loss: 0.0844 - accuracy: 0.9862 - val_loss: 0.5483 - val_accuracy: 0.8187\n"
     ]
    }
   ],
   "source": [
    "classifier = model.fit(X_train,\n",
    "                    y_train,\n",
    "                    epochs=25,\n",
    "                    validation_data=(X_val, y_val),\n",
    "                    batch_size=64)"
   ]
  },
  {
   "cell_type": "markdown",
   "metadata": {},
   "source": [
    "### Evaluation of model using the accuracy and loss plots"
   ]
  },
  {
   "cell_type": "code",
   "execution_count": 12,
   "metadata": {},
   "outputs": [
    {
     "data": {
      "image/png": "[encoded data removed]",
      "text/plain": [
       "<Figure size 864x576 with 1 Axes>"
      ]
     },
     "metadata": {
      "needs_background": "light"
     },
     "output_type": "display_data"
    }
   ],
   "source": [
    "# The code in this cell was adapted from a lecture at General Assembly\n",
    "\n",
    "# Check out our train loss and test loss over epochs.\n",
    "train_loss = classifier.history['loss']\n",
    "val_loss = classifier.history['val_loss']\n",
    "\n",
    "# Set figure size.\n",
    "plt.figure(figsize=(12, 8))\n",
    "\n",
    "# Generate line plot of training, testing loss over epochs.\n",
    "plt.plot(train_loss, label='Training Loss', color='blue')\n",
    "plt.plot(val_loss, label='Validation Loss', color='red')\n",
    "\n",
    "# Set title\n",
    "plt.title('Training and Validation Loss by Epoch', fontsize = 15)\n",
    "plt.xlabel('Epoch', fontsize = 12)\n",
    "plt.ylabel('Categorical Crossentropy', fontsize = 12)\n",
    "plt.xticks(range(1,26), range(26))\n",
    "\n",
    "plt.legend(fontsize = 10);"
   ]
  },
  {
   "cell_type": "code",
   "execution_count": 13,
   "metadata": {},
   "outputs": [
    {
     "data": {
      "image/png": "[encoded data removed]",
      "text/plain": [
       "<Figure size 864x576 with 1 Axes>"
      ]
     },
     "metadata": {
      "needs_background": "light"
     },
     "output_type": "display_data"
    }
   ],
   "source": [
    "# The code in this cell was adapted from a lecture at General Assembly\n",
    "\n",
    "# Check out our train accuracy and test accuracy over epochs.\n",
    "train_loss = classifier.history['accuracy']\n",
    "val_loss = classifier.history['val_accuracy']\n",
    "\n",
    "# Set figure size.\n",
    "plt.figure(figsize=(12, 8))\n",
    "\n",
    "# Generate line plot of training, testing loss over epochs.\n",
    "plt.plot(train_loss, label='Training Accuracy', color='blue')\n",
    "plt.plot(val_loss, label='Validation Accuracy', color='red')\n",
    "\n",
    "# Set title\n",
    "plt.title('Training and Validation Accuracy by Epoch', fontsize = 15)\n",
    "plt.xlabel('Epoch', fontsize = 12)\n",
    "plt.ylabel('Accuracy', fontsize = 12)\n",
    "plt.xticks(range(1,26), range(1,26))\n",
    "\n",
    "plt.legend(fontsize = 10);"
   ]
  },
  {
   "cell_type": "markdown",
   "metadata": {},
   "source": [
    "## Prediction using the built model"
   ]
  },
  {
   "cell_type": "code",
   "execution_count": 14,
   "metadata": {},
   "outputs": [
    {
     "name": "stdout",
     "output_type": "stream",
     "text": [
      "4/4 [==============================] - 0s 1ms/step\n"
     ]
    }
   ],
   "source": [
    "#Making predictions from the cnn model\n",
    "predictions = model.predict(X_test, verbose=1)"
   ]
  },
  {
   "cell_type": "markdown",
   "metadata": {},
   "source": [
    "## Prediction using the confusion matrix"
   ]
  },
  {
   "cell_type": "code",
   "execution_count": 15,
   "metadata": {},
   "outputs": [],
   "source": [
    "from mlxtend.plotting import plot_confusion_matrix\n",
    "from sklearn.metrics import confusion_matrix"
   ]
  },
  {
   "cell_type": "code",
   "execution_count": 17,
   "metadata": {},
   "outputs": [],
   "source": [
    "y_predictions = model.predict_classes(X_test)"
   ]
  },
  {
   "cell_type": "code",
   "execution_count": 18,
   "metadata": {},
   "outputs": [
    {
     "data": {
      "text/plain": [
       "(<Figure size 504x504 with 1 Axes>,\n",
       " <matplotlib.axes._subplots.AxesSubplot at 0x2467f8a4130>)"
      ]
     },
     "execution_count": 18,
     "metadata": {},
     "output_type": "execute_result"
    },
    {
     "data": {
      "image/png": "[encoded data removed]",
      "text/plain": [
       "<Figure size 504x504 with 1 Axes>"
      ]
     },
     "metadata": {
      "needs_background": "light"
     },
     "output_type": "display_data"
    }
   ],
   "source": [
    "mat = confusion_matrix(y_test, y_predictions)\n",
    "plot_confusion_matrix(conf_mat=mat, class_names=encoder.classes_, show_normed=True, figsize=(7,7))"
   ]
  },
  {
   "cell_type": "code",
   "execution_count": 19,
   "metadata": {},
   "outputs": [
    {
     "name": "stdout",
     "output_type": "stream",
     "text": [
      "4/4 [==============================] - 0s 2ms/step - loss: 0.7579 - accuracy: 0.8416\n"
     ]
    }
   ],
   "source": [
    "test_loss, test_accuracy = model.evaluate(X_test, y_test)"
   ]
  },
  {
   "cell_type": "markdown",
   "metadata": {},
   "source": [
    "### The results acheved from the ANN model are quite good and it can be observed fromm the confusion matrix that the model is able to classify the audio signals exactly with not much confusion."
   ]
  },
  {
   "cell_type": "code",
   "execution_count": null,
   "metadata": {},
   "outputs": [],
   "source": []
  }
 ],
 "metadata": {
  "kernelspec": {
   "display_name": "Python 3",
   "language": "python",
   "name": "python3"
  },
  "language_info": {
   "codemirror_mode": {
    "name": "ipython",
    "version": 3
   },
   "file_extension": ".py",
   "mimetype": "text/x-python",
   "name": "python",
   "nbconvert_exporter": "python",
   "pygments_lexer": "ipython3",
   "version": "3.8.3"
  }
 },
 "nbformat": 4,
 "nbformat_minor": 4
}
